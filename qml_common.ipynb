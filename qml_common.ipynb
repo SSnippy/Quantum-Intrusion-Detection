{
 "cells": [
  {
   "cell_type": "code",
   "execution_count": null,
   "id": "88766096",
   "metadata": {},
   "outputs": [],
   "source": [
    "import pandas as pd\n",
    "import numpy as np\n",
    "import matplotlib.pyplot as plt\n",
    "import seaborn as sns\n",
    "from qiskit.utils import QuantumInstance\n",
    "from qiskit.circuit.library import ZZFeatureMap\n",
    "from qiskit_machine_learning.kernels import QuantumKernel\n",
    "from qiskit_machine_learning.algorithms import QSVC\n",
    "from sklearn.decomposition import PCA\n",
    "from sklearn.model_selection import StratifiedShuffleSplit\n",
    "from sklearn.metrics import accuracy_score, classification_report, confusion_matrix\n",
    "from sklearn.preprocessing import StandardScaler\n",
    "from qiskit import Aer\n",
    "import joblib\n",
    "import warnings\n",
    "warnings.filterwarnings(\"ignore\")"
   ]
  },
  {
   "cell_type": "code",
   "execution_count": null,
   "id": "964a9aee",
   "metadata": {},
   "outputs": [],
   "source": [
    "# ============================ #\n",
    "#        Configurable Params   #\n",
    "# ============================ #\n",
    "NUM_FEATURES = 15     # Set -1 to use all available features as qubits\n",
    "TRAIN_SIZE = 7000     # Set -1 to use all available samples\n",
    "CIRCUIT_REPS = 2      # Depth of feature map\n",
    "TEST_RATIO = 0.25"
   ]
  },
  {
   "cell_type": "code",
   "execution_count": null,
   "id": "0596c83e",
   "metadata": {},
   "outputs": [],
   "source": [
    "# ============================ #\n",
    "#         Load Dataset         #\n",
    "# ============================ #\n",
    "print(\"Loading angle-encoded training and testing datasets...\")\n",
    "train_df = pd.read_excel(\"/content/tii_ssrc23_angle_encoded_train.xlsx\")\n",
    "test_df = pd.read_excel(\"/content/tii_ssrc23_angle_encoded_test.xlsx\")\n",
    "\n",
    "full_df = pd.concat([train_df, test_df], ignore_index=True)\n",
    "X_full = full_df.drop(columns=['label'])\n",
    "y_full = full_df['label']\n",
    "\n",
    "print(f\"Total Samples: {len(X_full)}, Total Classes: {len(np.unique(y_full))}\")"
   ]
  },
  {
   "cell_type": "code",
   "execution_count": null,
   "id": "2eee2080",
   "metadata": {},
   "outputs": [],
   "source": [
    "# ============================ #\n",
    "#   Stratified Downsampling    #\n",
    "# ============================ #\n",
    "num_classes = len(np.unique(y_full))\n",
    "\n",
    "if TRAIN_SIZE == -1 or TRAIN_SIZE >= len(X_full):\n",
    "    print(\"Using full dataset (no downsampling)\")\n",
    "    X_train = X_full\n",
    "    y_train = y_full\n",
    "    X_test = pd.DataFrame([], columns=X_full.columns)\n",
    "    y_test = pd.Series([], dtype=int)\n",
    "else:\n",
    "    TEST_SIZE = int(TEST_RATIO * TRAIN_SIZE)\n",
    "    if TEST_SIZE < num_classes:\n",
    "        min_train = int(np.ceil(num_classes / (1 - TEST_RATIO)))\n",
    "        raise ValueError(\n",
    "            f\"TRAIN_SIZE={TRAIN_SIZE} too small for {num_classes} classes with {int(TEST_RATIO*100)}% test split.\\n\"\n",
    "            f\"Set TRAIN_SIZE to at least {min_train}.\"\n",
    "        )\n",
    "\n",
    "    sss = StratifiedShuffleSplit(n_splits=1, train_size=TRAIN_SIZE, test_size=TEST_SIZE, random_state=42)\n",
    "    for train_index, test_index in sss.split(X_full, y_full):\n",
    "        X_train = X_full.iloc[train_index]\n",
    "        y_train = y_full.iloc[train_index]\n",
    "        X_test = X_full.iloc[test_index]\n",
    "        y_test = y_full.iloc[test_index]\n",
    "\n",
    "# ============================ #\n",
    "#     Feature Selection (PCA)  #\n",
    "# ============================ #\n",
    "if NUM_FEATURES == -1 or NUM_FEATURES > X_train.shape[1]:\n",
    "    NUM_FEATURES = X_train.shape[1]\n",
    "\n",
    "print(f\"\\nApplying PCA to reduce to {NUM_FEATURES} features...\")\n",
    "\n",
    "# Standardize before PCA\n",
    "scaler = StandardScaler()\n",
    "X_train_scaled = scaler.fit_transform(X_train)\n",
    "X_test_scaled = scaler.transform(X_test)\n",
    "\n",
    "pca = PCA(n_components=NUM_FEATURES, random_state=42)\n",
    "X_train_pca = pca.fit_transform(X_train_scaled)\n",
    "X_test_pca = pca.transform(X_test_scaled)\n",
    "\n",
    "print(f\"\\nQSVC with {NUM_FEATURES} qubits, {len(X_train_pca)} training samples, {len(X_test_pca)} test samples\")"
   ]
  },
  {
   "cell_type": "code",
   "execution_count": null,
   "id": "077e652c",
   "metadata": {},
   "outputs": [],
   "source": [
    "# ============================ #\n",
    "#       QSVC (Quantum SVM)     #\n",
    "# ============================ #\n",
    "backend = Aer.get_backend('aer_simulator_statevector')\n",
    "qi = QuantumInstance(backend=backend, shots=1024, seed_simulator=42, seed_transpiler=42)\n",
    "feature_map = ZZFeatureMap(feature_dimension=NUM_FEATURES, reps=CIRCUIT_REPS, entanglement='linear')\n",
    "quantum_kernel = QuantumKernel(feature_map=feature_map, quantum_instance=qi)"
   ]
  }
 ],
 "metadata": {
  "language_info": {
   "name": "python"
  }
 },
 "nbformat": 4,
 "nbformat_minor": 5
}
